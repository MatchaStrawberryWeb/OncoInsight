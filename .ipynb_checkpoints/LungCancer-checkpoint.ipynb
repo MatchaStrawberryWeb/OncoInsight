{
 "cells": [
  {
   "cell_type": "code",
   "execution_count": 1,
   "id": "66a33c4c-be4b-47a0-b357-af83d3bdac86",
   "metadata": {},
   "outputs": [],
   "source": [
    "import pandas as pd\n",
    "\n",
    "# Load the .data file\n",
    "data = pd.read_csv('breast-cancer-wisconsin.data', header=None)  # Add 'delimiter' if it's not comma-separated\n"
   ]
  },
  {
   "cell_type": "code",
   "execution_count": 2,
   "id": "a831c75e-4fa0-43b1-9f7a-bb831ce8f2be",
   "metadata": {},
   "outputs": [
    {
     "name": "stdout",
     "output_type": "stream",
     "text": [
      "        0   1   2   3   4   5   6   7   8   9   10\n",
      "0  1000025   5   1   1   1   2   1   3   1   1   2\n",
      "1  1002945   5   4   4   5   7  10   3   2   1   2\n",
      "2  1015425   3   1   1   1   2   2   3   1   1   2\n",
      "3  1016277   6   8   8   1   3   4   3   7   1   2\n",
      "4  1017023   4   1   1   3   2   1   3   1   1   2\n"
     ]
    }
   ],
   "source": [
    "print(data.head())\n"
   ]
  },
  {
   "cell_type": "code",
   "execution_count": null,
   "id": "16ab5335-18a7-4cfc-974c-94f2fec79ec2",
   "metadata": {},
   "outputs": [],
   "source": [
    "\n",
    "data.columns = ['ID', 'Clump_Thickness', 'Uniformity_of_Cell_Size', 'Uniformity_of_Cell_Shape', \n",
    "                'Marginal_Adhesion', 'Single_Epithelial_Cell_Size', 'Bare_Nuclei', \n",
    "                'Bland_Chromatin', 'Normal_Nucleoli', 'Mitoses', 'Class']\n"
   ]
  }
 ],
 "metadata": {
  "kernelspec": {
   "display_name": "Python 3 (ipykernel)",
   "language": "python",
   "name": "python3"
  },
  "language_info": {
   "codemirror_mode": {
    "name": "ipython",
    "version": 3
   },
   "file_extension": ".py",
   "mimetype": "text/x-python",
   "name": "python",
   "nbconvert_exporter": "python",
   "pygments_lexer": "ipython3",
   "version": "3.9.0"
  }
 },
 "nbformat": 4,
 "nbformat_minor": 5
}
